{
 "cells": [
  {
   "cell_type": "code",
   "execution_count": 2,
   "id": "194ccef6-3081-404a-8343-64b9f76931c4",
   "metadata": {
    "tags": []
   },
   "outputs": [
    {
     "name": "stderr",
     "output_type": "stream",
     "text": [
      "BokehDeprecationWarning: 'circle() method with size value' was deprecated in Bokeh 3.4.0 and will be removed, use 'scatter(size=...) instead' instead.\n",
      "BokehDeprecationWarning: 'circle() method with size value' was deprecated in Bokeh 3.4.0 and will be removed, use 'scatter(size=...) instead' instead.\n",
      "BokehDeprecationWarning: 'circle() method with size value' was deprecated in Bokeh 3.4.0 and will be removed, use 'scatter(size=...) instead' instead.\n",
      "BokehDeprecationWarning: 'circle() method with size value' was deprecated in Bokeh 3.4.0 and will be removed, use 'scatter(size=...) instead' instead.\n",
      "BokehDeprecationWarning: 'circle() method with size value' was deprecated in Bokeh 3.4.0 and will be removed, use 'scatter(size=...) instead' instead.\n"
     ]
    }
   ],
   "source": [
    "from bokeh.plotting import figure, show\n",
    "from bokeh.models import Arrow, NormalHead, Label\n",
    "\n",
    "# Create a new plot\n",
    "p = figure(width=800, height=600, x_range=(-1, 7), y_range=(-1, 7), title=\"Data Pipeline Design\")\n",
    "\n",
    "# Add data sources\n",
    "p.circle(x=[0, 0, 0, 0, 0, 0], y=[1, 2, 3, 4, 5, 6], size=20, color=\"blue\", legend_label=\"Data Sources\")\n",
    "\n",
    "# Add processing steps\n",
    "p.circle(x=[1, 1, 1, 1], y=[2, 3, 4, 5], size=20, color=\"green\", legend_label=\"Processing Steps\")\n",
    "\n",
    "# Add storage\n",
    "p.circle(x=2, y=3, size=20, color=\"orange\", legend_label=\"Storage\")\n",
    "\n",
    "# Add analysis\n",
    "p.circle(x=[3, 3], y=[4, 5], size=20, color=\"purple\", legend_label=\"Analysis\")\n",
    "\n",
    "# Add dashboard updates\n",
    "p.circle(x=4, y=4, size=20, color=\"red\", legend_label=\"Dashboard Updates\")\n",
    "\n",
    "# Add arrows to represent flow\n",
    "p.add_layout(Arrow(end=NormalHead(size=15, fill_color=\"black\"),\n",
    "                   x_start=0, y_start=1, x_end=1, y_end=2))\n",
    "p.add_layout(Arrow(end=NormalHead(size=15, fill_color=\"black\"),\n",
    "                   x_start=0, y_start=2, x_end=1, y_end=3))\n",
    "p.add_layout(Arrow(end=NormalHead(size=15, fill_color=\"black\"),\n",
    "                   x_start=0, y_start=3, x_end=1, y_end=4))\n",
    "p.add_layout(Arrow(end=NormalHead(size=15, fill_color=\"black\"),\n",
    "                   x_start=0, y_start=4, x_end=1, y_end=5))\n",
    "p.add_layout(Arrow(end=NormalHead(size=15, fill_color=\"black\"),\n",
    "                   x_start=0, y_start=5, x_end=1, y_end=6))\n",
    "p.add_layout(Arrow(end=NormalHead(size=15, fill_color=\"black\"),\n",
    "                   x_start=1, y_start=2, x_end=2, y_end=3))\n",
    "p.add_layout(Arrow(end=NormalHead(size=15, fill_color=\"black\"),\n",
    "                   x_start=2, y_start=3, x_end=3, y_end=4))\n",
    "p.add_layout(Arrow(end=NormalHead(size=15, fill_color=\"black\"),\n",
    "                   x_start=2, y_start=3, x_end=3, y_end=5))\n",
    "p.add_layout(Arrow(end=NormalHead(size=15, fill_color=\"black\"),\n",
    "                   x_start=3, y_start=4, x_end=4, y_end=4))\n",
    "\n",
    "# Add labels\n",
    "p.add_layout(Label(x=0.5, y=1, text=\"Data Collection\", text_font_size=\"10pt\"))\n",
    "p.add_layout(Label(x=1.5, y=2, text=\"Data Preprocessing\", text_font_size=\"10pt\"))\n",
    "p.add_layout(Label(x=2, y=3, text=\"Data Storage\", text_font_size=\"10pt\"))\n",
    "p.add_layout(Label(x=3.5, y=4, text=\"Data Analysis\", text_font_size=\"10pt\"))\n",
    "p.add_layout(Label(x=4.5, y=4, text=\"Dashboard Updates\", text_font_size=\"10pt\"))\n",
    "\n",
    "# Add legend\n",
    "p.legend.location = \"top_left\"\n",
    "p.legend.title = \"Components\"\n",
    "\n",
    "# Hide grid lines\n",
    "p.grid.visible = False\n",
    "\n",
    "# Hide axis\n",
    "p.axis.visible = False\n",
    "\n",
    "# Show the plot\n",
    "show(p)\n"
   ]
  }
 ],
 "metadata": {
  "kernelspec": {
   "display_name": "Python 3 (ipykernel)",
   "language": "python",
   "name": "python3"
  },
  "language_info": {
   "codemirror_mode": {
    "name": "ipython",
    "version": 3
   },
   "file_extension": ".py",
   "mimetype": "text/x-python",
   "name": "python",
   "nbconvert_exporter": "python",
   "pygments_lexer": "ipython3",
   "version": "3.11.4"
  }
 },
 "nbformat": 4,
 "nbformat_minor": 5
}
